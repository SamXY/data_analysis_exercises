{
 "cells": [
  {
   "cell_type": "markdown",
   "metadata": {},
   "source": [
    "### Overview\n",
    "**collaborative Filtering**\n",
    "<br>从csdn上找到了豆瓣评分的数据库，包含约9万个用户对约2千部电影的40万条评分记录，希望构建一个基于用户的电影推荐系统。\n",
    "<br>数据库下载地址：https://download.csdn.net/download/qq_37717661/10617933\n",
    "* 针对不同用户推荐不同电影或者说预测用户对电影的评分：输入用户ID，电影ID，预测评分值\n",
    "* 根据用户群的喜好(评分)对电影的进行分类或者说衡量电影间的相似度：输入电影ID，输出相似电影"
   ]
  },
  {
   "cell_type": "markdown",
   "metadata": {},
   "source": [
    "### 算法-SVD\n",
    "** $A=U{\\sum}V^T$ **\n",
    "<br>简单来说，奇异值分解的过程是把矩阵A的行空间通过V矩阵映射到奇异空间，把矩阵A的列空间通过U矩阵映射到奇异空间，或者说V是行空间里的一组正交基，U是列空间的一组正交基，U V把A的两个子空间映射到一个对角矩阵中，用奇异值表示。\n",
    "<br>SVD是一个降维算法，他是对矩阵“最好”的low rank approximation，这里的最好的意思是矩阵的F范数变化最小(RMSE最小)。原因是SVD把矩阵拆解成了由一个个$\\sigma·{\\vec U_i}·{\\vec V_i}$小矩阵的叠加组成，因为奇异向量UV都是单位向量，所以矩阵的范数就全由$\\sigma$奇异值的大小决定，把对角矩阵的奇异值按从大到小排列，通过删掉奇异值较小的维度降维，是保证数据矩阵的范数变化最小。\n",
    "<br>SVD对查找数据的潜在因素(latent factor)很有用，如电影音乐的品味喜好或发现潜在的主题。可以理解为给我们的数据定义了一个潜在概念空间(concept space)$V^T$把一行行的用户评分映射concept space，U把一列列电影得分映射到concept space，而每个concept或者说latent factor的强度由奇异值${\\sum}$衡量。\n",
    "<br>我们的数据很稀疏，每个用户只对少部分电影做出了评价，我们的目标就是预测填补这些空缺值。训练的目标就是用训练得到的矩阵跟原矩阵比F范数变化最小，这样我们成功的把一个推荐问题转换成了一个优化问题，输入潜在因素的维度，根据这个维度大小构建U，V空间，训练U，V的参数，使重构出的矩阵跟原数据矩阵相比 $\\sqrt{\\sum_i(A_i-B_i)^2}$ 趋近于0。\n",
    "### Implementation using Surprise\n",
    "Surprise库超好用\n",
    "* Reader--定义评分数据的上下限\n",
    "* Dataset--接收以user_id, product_id, rating这个固定顺序排列的数据集\n",
    "* train_test_split(dataset, test_size=25%)--将数据集拆分成训练集和测试集\n",
    "* SVD(n_factors=?)--训练模型，设置latent_factor潜在变量的维度\n",
    "* **model.qi**--movie_to_LF matrix，movie到潜在变量空间的transform矩阵\n",
    "<br>item_to_row_idx: Dict[Any, int] = **model.trainset._raw2inner_id_items** 得到qi矩阵的行序号对应着哪个个movie_id 可以每个电影对应的行空间向量之间的距离来衡量电影的相似度，或者做cluster"
   ]
  },
  {
   "cell_type": "markdown",
   "metadata": {},
   "source": [
    "### 数据载入和清洗"
   ]
  },
  {
   "cell_type": "code",
   "execution_count": 1,
   "metadata": {},
   "outputs": [],
   "source": [
    "import numpy as np\n",
    "import pandas as pd\n",
    "import sqlite3"
   ]
  },
  {
   "cell_type": "markdown",
   "metadata": {},
   "source": [
    "首先从数据库中载入数据，看下数据库里有几张表，每个表有哪些属性，挑选有用的载入到dataframe里"
   ]
  },
  {
   "cell_type": "code",
   "execution_count": 2,
   "metadata": {},
   "outputs": [
    {
     "data": {
      "text/plain": [
       "comment          ID TIME MOVIEID RATING CONTENT CREATOR ADD_TIME\n",
       "movie                                           ID NAME ADD_TIME\n",
       "movie_chinese                                   ID NAME ADD_TIME\n",
       "dtype: object"
      ]
     },
     "execution_count": 2,
     "metadata": {},
     "output_type": "execute_result"
    }
   ],
   "source": [
    "conn = sqlite3.connect('../movie_filter/input/douban.db')\n",
    "cur = conn.cursor()\n",
    "cur.execute(\"select name from sqlite_master where type='table'\")\n",
    "tables = [i[0] for i in cur.fetchall()[1:]]\n",
    "table_infos = {}\n",
    "for (i,name) in enumerate(tables):\n",
    "    cur.execute(\"PRAGMA table_info(%s)\"%name)\n",
    "    table_infos[name] = ' '.join([col[1] for col in cur.fetchall()])\n",
    "data_info = pd.Series(table_infos)\n",
    "data_info"
   ]
  },
  {
   "cell_type": "code",
   "execution_count": 3,
   "metadata": {},
   "outputs": [
    {
     "data": {
      "text/html": [
       "<div>\n",
       "<style scoped>\n",
       "    .dataframe tbody tr th:only-of-type {\n",
       "        vertical-align: middle;\n",
       "    }\n",
       "\n",
       "    .dataframe tbody tr th {\n",
       "        vertical-align: top;\n",
       "    }\n",
       "\n",
       "    .dataframe thead th {\n",
       "        text-align: right;\n",
       "    }\n",
       "</style>\n",
       "<table border=\"1\" class=\"dataframe\">\n",
       "  <thead>\n",
       "    <tr style=\"text-align: right;\">\n",
       "      <th></th>\n",
       "      <th>id</th>\n",
       "      <th>user</th>\n",
       "      <th>movie_id</th>\n",
       "      <th>rating</th>\n",
       "      <th>time</th>\n",
       "    </tr>\n",
       "  </thead>\n",
       "  <tbody>\n",
       "    <tr>\n",
       "      <th>0</th>\n",
       "      <td>4264</td>\n",
       "      <td>身似</td>\n",
       "      <td>10440138</td>\n",
       "      <td>1</td>\n",
       "      <td>2018-01-05 15:05:06</td>\n",
       "    </tr>\n",
       "    <tr>\n",
       "      <th>1</th>\n",
       "      <td>4265</td>\n",
       "      <td>Ent</td>\n",
       "      <td>10440138</td>\n",
       "      <td>2</td>\n",
       "      <td>2018-01-05 15:05:06</td>\n",
       "    </tr>\n",
       "    <tr>\n",
       "      <th>2</th>\n",
       "      <td>4266</td>\n",
       "      <td>有意识的贱民</td>\n",
       "      <td>10440138</td>\n",
       "      <td>2</td>\n",
       "      <td>2018-01-05 15:05:06</td>\n",
       "    </tr>\n",
       "    <tr>\n",
       "      <th>3</th>\n",
       "      <td>4267</td>\n",
       "      <td>亿万露电</td>\n",
       "      <td>10440138</td>\n",
       "      <td>1</td>\n",
       "      <td>2018-01-05 15:05:06</td>\n",
       "    </tr>\n",
       "    <tr>\n",
       "      <th>4</th>\n",
       "      <td>4268</td>\n",
       "      <td>Marni</td>\n",
       "      <td>10440138</td>\n",
       "      <td>1</td>\n",
       "      <td>2018-01-05 15:05:06</td>\n",
       "    </tr>\n",
       "  </tbody>\n",
       "</table>\n",
       "</div>"
      ],
      "text/plain": [
       "     id    user  movie_id rating                 time\n",
       "0  4264      身似  10440138      1  2018-01-05 15:05:06\n",
       "1  4265     Ent  10440138      2  2018-01-05 15:05:06\n",
       "2  4266  有意识的贱民  10440138      2  2018-01-05 15:05:06\n",
       "3  4267    亿万露电  10440138      1  2018-01-05 15:05:06\n",
       "4  4268   Marni  10440138      1  2018-01-05 15:05:06"
      ]
     },
     "execution_count": 3,
     "metadata": {},
     "output_type": "execute_result"
    }
   ],
   "source": [
    "df_comment = pd.read_sql_query('SELECT ID,CREATOR,MOVIEID,RATING,ADD_TIME FROM comment ORDER BY ID',conn)\n",
    "df_comment.rename(columns={\"ID\":'id',\"CREATOR\":'user',\"MOVIEID\":'movie_id',\"RATING\":'rating',\"ADD_TIME\":'time'},inplace=True)\n",
    "df_comment.head()"
   ]
  },
  {
   "cell_type": "code",
   "execution_count": 4,
   "metadata": {},
   "outputs": [
    {
     "data": {
      "text/html": [
       "<div>\n",
       "<style scoped>\n",
       "    .dataframe tbody tr th:only-of-type {\n",
       "        vertical-align: middle;\n",
       "    }\n",
       "\n",
       "    .dataframe tbody tr th {\n",
       "        vertical-align: top;\n",
       "    }\n",
       "\n",
       "    .dataframe thead th {\n",
       "        text-align: right;\n",
       "    }\n",
       "</style>\n",
       "<table border=\"1\" class=\"dataframe\">\n",
       "  <thead>\n",
       "    <tr style=\"text-align: right;\">\n",
       "      <th></th>\n",
       "      <th>movie_id</th>\n",
       "      <th>movie</th>\n",
       "      <th>time</th>\n",
       "    </tr>\n",
       "  </thead>\n",
       "  <tbody>\n",
       "    <tr>\n",
       "      <th>0</th>\n",
       "      <td>10001432</td>\n",
       "      <td>颠倒的帕特玛</td>\n",
       "      <td>2018-02-07 20:46:08</td>\n",
       "    </tr>\n",
       "    <tr>\n",
       "      <th>1</th>\n",
       "      <td>10047547</td>\n",
       "      <td>饥饿游戏3：嘲笑鸟(下)</td>\n",
       "      <td>2018-02-07 20:27:08</td>\n",
       "    </tr>\n",
       "    <tr>\n",
       "      <th>2</th>\n",
       "      <td>10174444</td>\n",
       "      <td>剧场版魔法少女小圆 前篇 起始的故事</td>\n",
       "      <td>2018-02-07 21:01:35</td>\n",
       "    </tr>\n",
       "    <tr>\n",
       "      <th>3</th>\n",
       "      <td>10342838</td>\n",
       "      <td>弯刀杀戮</td>\n",
       "      <td>2018-02-07 20:42:15</td>\n",
       "    </tr>\n",
       "    <tr>\n",
       "      <th>4</th>\n",
       "      <td>10344754</td>\n",
       "      <td>毒战</td>\n",
       "      <td>2018-02-07 20:23:20</td>\n",
       "    </tr>\n",
       "  </tbody>\n",
       "</table>\n",
       "</div>"
      ],
      "text/plain": [
       "   movie_id               movie                 time\n",
       "0  10001432              颠倒的帕特玛  2018-02-07 20:46:08\n",
       "1  10047547        饥饿游戏3：嘲笑鸟(下)  2018-02-07 20:27:08\n",
       "2  10174444  剧场版魔法少女小圆 前篇 起始的故事  2018-02-07 21:01:35\n",
       "3  10342838                弯刀杀戮  2018-02-07 20:42:15\n",
       "4  10344754                  毒战  2018-02-07 20:23:20"
      ]
     },
     "execution_count": 4,
     "metadata": {},
     "output_type": "execute_result"
    }
   ],
   "source": [
    "df_movie = pd.read_sql_query('select ID as movie_id,NAME as movie,ADD_TIME as time from movie \\\n",
    "                             union select ID as movie_id,NAME as movie,ADD_TIME as time from movie_chinese',conn)\n",
    "df_movie.head()"
   ]
  },
  {
   "cell_type": "code",
   "execution_count": 5,
   "metadata": {},
   "outputs": [],
   "source": [
    "conn.close()\n",
    "import matplotlib.pyplot as plt"
   ]
  },
  {
   "cell_type": "markdown",
   "metadata": {},
   "source": [
    "提取需要的数据--user_id, movie_id, rating；查看数据类型，把评分值转换成1～5的浮点数"
   ]
  },
  {
   "cell_type": "code",
   "execution_count": 6,
   "metadata": {},
   "outputs": [
    {
     "name": "stdout",
     "output_type": "stream",
     "text": [
      "id           int64\n",
      "user        object\n",
      "movie_id    object\n",
      "rating      object\n",
      "time        object\n",
      "dtype: object\n"
     ]
    }
   ],
   "source": [
    "print(df_comment.dtypes)"
   ]
  },
  {
   "cell_type": "code",
   "execution_count": 7,
   "metadata": {},
   "outputs": [
    {
     "name": "stdout",
     "output_type": "stream",
     "text": [
      "movie_id      int64\n",
      "rating      float64\n",
      "user         object\n",
      "dtype: object\n"
     ]
    }
   ],
   "source": [
    "df_ratings = df_comment[['movie_id','rating']].apply(pd.to_numeric,errors='coerce')\n",
    "df_ratings['user'] = df_comment['user']\n",
    "print(df_ratings.dtypes)"
   ]
  },
  {
   "cell_type": "markdown",
   "metadata": {},
   "source": [
    " 先考察下整体评分数据的分布情况："
   ]
  },
  {
   "cell_type": "code",
   "execution_count": 8,
   "metadata": {},
   "outputs": [
    {
     "data": {
      "text/plain": [
       "count    403946.000000\n",
       "mean          3.237123\n",
       "std           1.363416\n",
       "min           1.000000\n",
       "25%           2.000000\n",
       "50%           4.000000\n",
       "75%           4.000000\n",
       "max           5.000000\n",
       "Name: rating, dtype: float64"
      ]
     },
     "execution_count": 8,
     "metadata": {},
     "output_type": "execute_result"
    }
   ],
   "source": [
    "m_all = df_ratings['rating'].mean()\n",
    "df_ratings['rating'].describe()"
   ]
  },
  {
   "cell_type": "markdown",
   "metadata": {},
   "source": [
    "* 每部电影得到的用户评分数的分布情况，查看是否有异常值"
   ]
  },
  {
   "cell_type": "code",
   "execution_count": 9,
   "metadata": {},
   "outputs": [
    {
     "data": {
      "text/plain": [
       "<matplotlib.axes._subplots.AxesSubplot at 0x126c17ba8>"
      ]
     },
     "execution_count": 9,
     "metadata": {},
     "output_type": "execute_result"
    },
    {
     "data": {
      "image/png": "[encoded data removed]",
      "text/plain": [
       "<Figure size 432x288 with 1 Axes>"
      ]
     },
     "metadata": {},
     "output_type": "display_data"
    }
   ],
   "source": [
    "movie_ratings = df_ratings['movie_id'].value_counts()\n",
    "import seaborn as sns\n",
    "sns.boxplot(movie_ratings)"
   ]
  },
  {
   "cell_type": "code",
   "execution_count": 10,
   "metadata": {},
   "outputs": [
    {
     "name": "stdout",
     "output_type": "stream",
     "text": [
      "545    出租车司机\n",
      "Name: movie, dtype: object\n",
      "524    肖申克的救赎\n",
      "Name: movie, dtype: object\n"
     ]
    }
   ],
   "source": [
    "check_list = movie_ratings[movie_ratings>1000].index.tolist()\n",
    "for movie_id in check_list:\n",
    "    print(df_movie[df_movie['movie_id']==str(movie_id)]['movie'])"
   ]
  },
  {
   "cell_type": "markdown",
   "metadata": {},
   "source": [
    "* 查看下每用户评价的电影数的分布情况。"
   ]
  },
  {
   "cell_type": "code",
   "execution_count": 11,
   "metadata": {},
   "outputs": [
    {
     "data": {
      "text/plain": [
       "<matplotlib.axes._subplots.AxesSubplot at 0x1a27f7a1d0>"
      ]
     },
     "execution_count": 11,
     "metadata": {},
     "output_type": "execute_result"
    },
    {
     "data": {
      "image/png": "[encoded data removed]",
      "text/plain": [
       "<Figure size 432x288 with 1 Axes>"
      ]
     },
     "metadata": {},
     "output_type": "display_data"
    }
   ],
   "source": [
    "user_ratings = df_ratings['user'].value_counts()\n",
    "sns.boxplot(user_ratings)"
   ]
  },
  {
   "cell_type": "code",
   "execution_count": 12,
   "metadata": {},
   "outputs": [
    {
     "name": "stdout",
     "output_type": "stream",
     "text": [
      "[已注销]\n",
      "评价电影数少于2的用户人数：  48630\n"
     ]
    }
   ],
   "source": [
    "check_list = user_ratings[user_ratings>500].index.tolist()\n",
    "for user in check_list:\n",
    "    print(user)\n",
    "print('评价电影数少于2的用户人数： ',len(user_ratings[user_ratings<2]))"
   ]
  },
  {
   "cell_type": "markdown",
   "metadata": {},
   "source": [
    "这部分有大量异常值需要处理：有一部分评论来自已注销用户，被认为是同一个人，这部分数据应该去掉；还有有过半的用户只评价过一部电影，考虑到可能是水军，后面的分析是中通过用户对不同电影的打分反应用户的喜好来区分电影，只评价一部可能没有参考价值，这里先删掉。另外，数据集里没有提供用户的id号，需要添加一个。"
   ]
  },
  {
   "cell_type": "code",
   "execution_count": 13,
   "metadata": {},
   "outputs": [
    {
     "name": "stdout",
     "output_type": "stream",
     "text": [
      "invalid ratings:  351568\n"
     ]
    },
    {
     "data": {
      "text/html": [
       "<div>\n",
       "<style scoped>\n",
       "    .dataframe tbody tr th:only-of-type {\n",
       "        vertical-align: middle;\n",
       "    }\n",
       "\n",
       "    .dataframe tbody tr th {\n",
       "        vertical-align: top;\n",
       "    }\n",
       "\n",
       "    .dataframe thead th {\n",
       "        text-align: right;\n",
       "    }\n",
       "</style>\n",
       "<table border=\"1\" class=\"dataframe\">\n",
       "  <thead>\n",
       "    <tr style=\"text-align: right;\">\n",
       "      <th></th>\n",
       "      <th>user_id</th>\n",
       "      <th>movie_id</th>\n",
       "      <th>rating</th>\n",
       "    </tr>\n",
       "  </thead>\n",
       "  <tbody>\n",
       "    <tr>\n",
       "      <th>0</th>\n",
       "      <td>86120</td>\n",
       "      <td>10440138</td>\n",
       "      <td>1.0</td>\n",
       "    </tr>\n",
       "    <tr>\n",
       "      <th>1</th>\n",
       "      <td>5715</td>\n",
       "      <td>10440138</td>\n",
       "      <td>2.0</td>\n",
       "    </tr>\n",
       "    <tr>\n",
       "      <th>2</th>\n",
       "      <td>63218</td>\n",
       "      <td>10440138</td>\n",
       "      <td>2.0</td>\n",
       "    </tr>\n",
       "    <tr>\n",
       "      <th>3</th>\n",
       "      <td>38610</td>\n",
       "      <td>10440138</td>\n",
       "      <td>1.0</td>\n",
       "    </tr>\n",
       "    <tr>\n",
       "      <th>4</th>\n",
       "      <td>11104</td>\n",
       "      <td>10440138</td>\n",
       "      <td>1.0</td>\n",
       "    </tr>\n",
       "  </tbody>\n",
       "</table>\n",
       "</div>"
      ],
      "text/plain": [
       "   user_id  movie_id  rating\n",
       "0    86120  10440138     1.0\n",
       "1     5715  10440138     2.0\n",
       "2    63218  10440138     2.0\n",
       "3    38610  10440138     1.0\n",
       "4    11104  10440138     1.0"
      ]
     },
     "execution_count": 13,
     "metadata": {},
     "output_type": "execute_result"
    }
   ],
   "source": [
    "count_by_user = df_ratings[['rating']].groupby(df_ratings['user']).count()\n",
    "count_by_user['user_id'] = range(len(count_by_user))\n",
    "count_by_user.rename(columns={\"rating\":'count'},inplace=True)\n",
    "df_temp = df_ratings.join(count_by_user[['count','user_id']],on='user')\n",
    "df_temp = df_temp[df_temp['user']!='[已注销]']\n",
    "df_ratings_valid = df_temp[df_temp['count']>1][['user_id','movie_id','rating']].dropna()\n",
    "print('invalid ratings: ', len(df_ratings_valid))\n",
    "df_ratings_valid.head()"
   ]
  },
  {
   "cell_type": "code",
   "execution_count": 32,
   "metadata": {},
   "outputs": [
    {
     "name": "stdout",
     "output_type": "stream",
     "text": [
      "电影数：  1757\n",
      "用户数：  45724\n",
      "评论数：  351568\n"
     ]
    }
   ],
   "source": [
    "print('电影数： ', len(df_ratings_valid['movie_id'].value_counts()))\n",
    "print('用户数： ', len(df_ratings_valid['user_id'].value_counts()))\n",
    "print('评论数： ', len(df_ratings_valid))"
   ]
  },
  {
   "cell_type": "markdown",
   "metadata": {},
   "source": [
    "上面的就是清理过的要开始进行训练的数据集，大约35万条评论\n",
    "### 训练\n",
    "测试选择了100个潜在变量的维度，用Root Mean Squared Error来衡量准确度"
   ]
  },
  {
   "cell_type": "code",
   "execution_count": 41,
   "metadata": {},
   "outputs": [],
   "source": [
    "from surprise import SVD,Dataset,Reader,accuracy\n",
    "from surprise.model_selection import train_test_split,cross_validate"
   ]
  },
  {
   "cell_type": "code",
   "execution_count": 46,
   "metadata": {},
   "outputs": [
    {
     "name": "stdout",
     "output_type": "stream",
     "text": [
      "RMSE: 1.0357\n"
     ]
    },
    {
     "data": {
      "text/plain": [
       "1.0356966630081832"
      ]
     },
     "execution_count": 46,
     "metadata": {},
     "output_type": "execute_result"
    }
   ],
   "source": [
    "reader = Reader(rating_scale=(1,5))\n",
    "data = Dataset.load_from_df(df_ratings_valid,reader)\n",
    "trainset, testset = train_test_split(data, test_size=.25)\n",
    "model = SVD(n_factors=100)\n",
    "model.fit(trainset)\n",
    "predictions = model.test(testset)\n",
    "accuracy.rmse(predictions)"
   ]
  },
  {
   "cell_type": "markdown",
   "metadata": {},
   "source": [
    "### 应用-预测评分\n",
    "选一条评分，看下预测是否准确"
   ]
  },
  {
   "cell_type": "code",
   "execution_count": 50,
   "metadata": {},
   "outputs": [
    {
     "data": {
      "text/html": [
       "<div>\n",
       "<style scoped>\n",
       "    .dataframe tbody tr th:only-of-type {\n",
       "        vertical-align: middle;\n",
       "    }\n",
       "\n",
       "    .dataframe tbody tr th {\n",
       "        vertical-align: top;\n",
       "    }\n",
       "\n",
       "    .dataframe thead th {\n",
       "        text-align: right;\n",
       "    }\n",
       "</style>\n",
       "<table border=\"1\" class=\"dataframe\">\n",
       "  <thead>\n",
       "    <tr style=\"text-align: right;\">\n",
       "      <th></th>\n",
       "      <th>user_id</th>\n",
       "      <th>movie_id</th>\n",
       "      <th>rating</th>\n",
       "    </tr>\n",
       "  </thead>\n",
       "  <tbody>\n",
       "    <tr>\n",
       "      <th>51438</th>\n",
       "      <td>1</td>\n",
       "      <td>1292234</td>\n",
       "      <td>4.0</td>\n",
       "    </tr>\n",
       "  </tbody>\n",
       "</table>\n",
       "</div>"
      ],
      "text/plain": [
       "       user_id  movie_id  rating\n",
       "51438        1   1292234     4.0"
      ]
     },
     "execution_count": 50,
     "metadata": {},
     "output_type": "execute_result"
    }
   ],
   "source": [
    "df_ratings_valid[df_ratings_valid['user_id']==1][:1]"
   ]
  },
  {
   "cell_type": "code",
   "execution_count": 51,
   "metadata": {},
   "outputs": [
    {
     "data": {
      "text/plain": [
       "Prediction(uid=1, iid=1292234, r_ui=None, est=3.79349211445633, details={'was_impossible': False})"
      ]
     },
     "execution_count": 51,
     "metadata": {},
     "output_type": "execute_result"
    }
   ],
   "source": [
    "model.predict(1,1292234)"
   ]
  },
  {
   "cell_type": "markdown",
   "metadata": {},
   "source": [
    "预测结果是3.79，实际值是4，还是比较准确的。。。\n",
    "### 应用-相关推荐\n",
    "输入电影名称，得到相似电影"
   ]
  },
  {
   "cell_type": "code",
   "execution_count": 76,
   "metadata": {},
   "outputs": [],
   "source": [
    "from sklearn.metrics.pairwise import linear_kernel\n",
    "model_cosine = linear_kernel(model.qi, model.qi)\n",
    "__df_movie = df_movie[['movie_id']].apply(pd.to_numeric,errors='coerce')\n",
    "__df_movie['movie'] = df_movie['movie']\n",
    "__df_movie = __df_movie.set_index('movie_id')"
   ]
  },
  {
   "cell_type": "code",
   "execution_count": 77,
   "metadata": {},
   "outputs": [],
   "source": [
    "def get_recommendation(movie,sim_mat=model_cosine):\n",
    "    movie_id =int(df_movie[df_movie['movie']==movie]['movie_id'])\n",
    "    id_dict = model.trainset._raw2inner_id_items\n",
    "    idx = id_dict[movie_id]\n",
    "    \n",
    "    sim_scores = list(enumerate(sim_mat[idx]))\n",
    "    sim_scores = sorted(sim_scores,key=lambda x:x[1],reverse=True)\n",
    "    sim_scores = sim_scores[1:11]\n",
    "    indices = [i[0] for i in sim_scores]\n",
    "    \n",
    "    id_dict_reverse ={value:key for key,value in id_dict.items()}\n",
    "    movie_indices = [id_dict_reverse[i] for i in indices]\n",
    "    \n",
    "    df_recommended = __df_movie.loc[movie_indices]\n",
    "    df_recommended.index = range(1,11)\n",
    "    df_recommended =df_recommended.rename(columns={'movie':'相似电影'})\n",
    "    return df_recommended"
   ]
  },
  {
   "cell_type": "code",
   "execution_count": 80,
   "metadata": {},
   "outputs": [
    {
     "data": {
      "text/html": [
       "<div>\n",
       "<style scoped>\n",
       "    .dataframe tbody tr th:only-of-type {\n",
       "        vertical-align: middle;\n",
       "    }\n",
       "\n",
       "    .dataframe tbody tr th {\n",
       "        vertical-align: top;\n",
       "    }\n",
       "\n",
       "    .dataframe thead th {\n",
       "        text-align: right;\n",
       "    }\n",
       "</style>\n",
       "<table border=\"1\" class=\"dataframe\">\n",
       "  <thead>\n",
       "    <tr style=\"text-align: right;\">\n",
       "      <th></th>\n",
       "      <th>相似电影</th>\n",
       "    </tr>\n",
       "  </thead>\n",
       "  <tbody>\n",
       "    <tr>\n",
       "      <th>1</th>\n",
       "      <td>死神来了5</td>\n",
       "    </tr>\n",
       "    <tr>\n",
       "      <th>2</th>\n",
       "      <td>天生爱情狂</td>\n",
       "    </tr>\n",
       "    <tr>\n",
       "      <th>3</th>\n",
       "      <td>服从</td>\n",
       "    </tr>\n",
       "    <tr>\n",
       "      <th>4</th>\n",
       "      <td>蝴蝶效应2</td>\n",
       "    </tr>\n",
       "    <tr>\n",
       "      <th>5</th>\n",
       "      <td>生命之树</td>\n",
       "    </tr>\n",
       "    <tr>\n",
       "      <th>6</th>\n",
       "      <td>弯刀杀戮</td>\n",
       "    </tr>\n",
       "    <tr>\n",
       "      <th>7</th>\n",
       "      <td>闪闪的红星</td>\n",
       "    </tr>\n",
       "    <tr>\n",
       "      <th>8</th>\n",
       "      <td>速度与激情8</td>\n",
       "    </tr>\n",
       "    <tr>\n",
       "      <th>9</th>\n",
       "      <td>生死狙击</td>\n",
       "    </tr>\n",
       "    <tr>\n",
       "      <th>10</th>\n",
       "      <td>忍者神龟：变种时代</td>\n",
       "    </tr>\n",
       "  </tbody>\n",
       "</table>\n",
       "</div>"
      ],
      "text/plain": [
       "         相似电影\n",
       "1       死神来了5\n",
       "2       天生爱情狂\n",
       "3          服从\n",
       "4       蝴蝶效应2\n",
       "5        生命之树\n",
       "6        弯刀杀戮\n",
       "7       闪闪的红星\n",
       "8      速度与激情8\n",
       "9        生死狙击\n",
       "10  忍者神龟：变种时代"
      ]
     },
     "execution_count": 80,
     "metadata": {},
     "output_type": "execute_result"
    }
   ],
   "source": [
    "get_recommendation('饥饿游戏3：嘲笑鸟(下)')"
   ]
  },
  {
   "cell_type": "markdown",
   "metadata": {},
   "source": [
    "这个结果好不好我也不知道怎么看啦。。。"
   ]
  }
 ],
 "metadata": {
  "kernelspec": {
   "display_name": "Python 3",
   "language": "python",
   "name": "python3"
  },
  "language_info": {
   "codemirror_mode": {
    "name": "ipython",
    "version": 3
   },
   "file_extension": ".py",
   "mimetype": "text/x-python",
   "name": "python",
   "nbconvert_exporter": "python",
   "pygments_lexer": "ipython3",
   "version": "3.6.5"
  }
 },
 "nbformat": 4,
 "nbformat_minor": 2
}
